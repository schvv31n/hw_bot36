{
 "cells": [
  {
   "cell_type": "code",
   "execution_count": 10,
   "metadata": {},
   "outputs": [],
   "source": [
    "def get_hw(cur_date=datetime.now().strftime('%Y-%m-%d')):\\n\",\n",
    "    \"    cur_date = datetime.strptime(cur_date, '%Y-%m-%d')\\n\",\n",
    "    \"    \\n\",\n",
    "    \"    if cur_date.weekday()==5:\\n\",\n",
    "    \"        cur_date = cur_date+timedelta(days=2)\\n\",\n",
    "    \"    elif cur_date.weekday()==6:\\n\",\n",
    "    \"        return {'valid': False, 'error': None}\\n\",\n",
    "    \"    else:\\n\",\n",
    "    \"        cur_date = cur_date+timedelta(days=1)\\n\",\n",
    "    \"    \\n\",\n",
    "    \"    with PoolManager() as http:\\n\",\n",
    "    \"        \\n\",\n",
    "    \"        r = http.request('POST', 'https://sh-open.ris61edu.ru/auth/login',\\n\",\n",
    "    \"                         fields={'login_login': '36_Курдов_Тимофей_36', 'login_password': 'faYUzEUK'})\\n\",\n",
    "    \"        print(r.status)\\n\",\n",
    "    \"        if r.status>=400:\\n\",\n",
    "    \"            return {'valid': False, 'error': r.geturl()[28:]+'->'+str(r.status)}\\n\",\n",
    "    \"        \\n\",\n",
    "    \"        cookies = [i for i in re.split('[;,] ', r.getheader('Set-Cookie')) if re.match('(sessionid|NodeID)', i)]\\n\",\n",
    "    \"        r2 = http.request('GET', 'https://sh-open.ris61edu.ru/personal-area/#diary',\\n\",\n",
    "    \"                          headers={'Cookie':'; '.join(cookies)})\\n\",\n",
    "    \"        print(r2.status)\\n\",\n",
    "    \"        if r2.status>=400:\\n\",\n",
    "    \"            return {'valid': False, 'error': r2.geturl()[28:]+'->'+str(r2.status)}\\n\",\n",
    "    \"        \\n\",\n",
    "    \"        r3 = http.request('POST', 'https://sh-open.ris61edu.ru/api/ScheduleService/GetDiary',\\n\",\n",
    "    \"                    fields={'date': cur_date.strftime('%Y-%m-%d'), 'is_diary': 'true'},\\n\",\n",
    "    \"                    headers={'Cookie':'; '.join(cookies),\\n\",\n",
    "    \"                             'Content-Type': 'application/x-www-form-urlencoded',\\n\",\n",
    "    \"                             'Content-Length': '29'},\\n\",\n",
    "    \"                          encode_multipart=False)\\n\",\n",
    "    \"        print(r3.status)\\n\",\n",
    "    \"        if r3.status>=400:\\n\",\n",
    "    \"            return {'valid': False, 'error': r3.geturl()[28:]+'->'+str(r3.status)}\\n\",\n",
    "    return {'valid': True, 'content': json.loads(r3.data.decode())['days']}"
   ]
  },
  {
   "cell_type": "code",
   "execution_count": 11,
   "metadata": {},
   "outputs": [
    {
     "name": "stdout",
     "output_type": "stream",
     "text": [
      "('что по родн', 'что', 'родн', None, None, None)\n",
      "родн\n"
     ]
    }
   ],
   "source": [
    "import re\n",
    "kw = ['англ', 'алг', 'био', 'гео', 'физр', 'физик', 'лит', 'хим', 'геометр', 'нем', 'фр', 'ист', 'общ', 'рус', 'тех', 'обж', 'родн']\n",
    "p = re.compile(f\".*((что|че).*по.?({'|'.join(kw)})|по.?({'|'.join(kw)}).+(что|че)[- ]?(то)?.*зад.*)\", re.IGNORECASE)\n",
    "groups = p.search('что по родному русскому?').groups()\n",
    "print(groups)\n",
    "print(groups[2] if groups[2] else groups[3])"
   ]
  },
  {
   "cell_type": "code",
   "execution_count": 12,
   "metadata": {},
   "outputs": [
    {
     "name": "stdout",
     "output_type": "stream",
     "text": [
      "200\n",
      "200\n",
      "200\n"
     ]
    }
   ],
   "source": [
    "res = get_hw()"
   ]
  },
  {
   "cell_type": "code",
   "execution_count": 13,
   "metadata": {},
   "outputs": [
    {
     "name": "stdout",
     "output_type": "stream",
     "text": [
      "200\n",
      "200\n",
      "200\n",
      "Ошибка: предмет не найден\n",
      "None\n"
     ]
    }
   ],
   "source": [
    "hw = None\n",
    "if res['valid']:\n",
    "    for day in res['content'][datetime.now().weekday()+1:-1]:\n",
    "        for lesson in day['lessons']:\n",
    "            if 'фаолопр' in lesson['discipline'].lower():\n",
    "                hw = (lesson['discipline'], day['date'], lesson['homework'])\n",
    "                break\n",
    "        if hw:\n",
    "            break\n",
    "    if not hw:\n",
    "        res = get_hw((datetime.now()+timedelta(days=7)).strftime('%Y-%m-%d'))\n",
    "        if res['valid']:\n",
    "            for day in res['content'][:datetime.now().weekday()+1]:\n",
    "                for lesson in day['lessons']:\n",
    "                    if 'фаолопр' in lesson['discipline'].lower():\n",
    "                        hw = (lesson['discipline'], day['date'], lesson['homework'])\n",
    "                        break\n",
    "                if hw:\n",
    "                    break\n",
    "            if not hw:\n",
    "                print('Ошибка: предмет не найден')\n",
    "        else:\n",
    "            print('Ошибка: '+res['error'])\n",
    "else:\n",
    "    print('Ошибка: '+res['error'])\n",
    "print(hw)"
   ]
  },
  {
   "cell_type": "code",
   "execution_count": null,
   "metadata": {},
   "outputs": [],
   "source": []
  }
 ],
 "metadata": {
  "kernelspec": {
   "display_name": "Python 3",
   "language": "python",
   "name": "python3"
  },
  "language_info": {
   "codemirror_mode": {
    "name": "ipython",
    "version": 3
   },
   "file_extension": ".py",
   "mimetype": "text/x-python",
   "name": "python",
   "nbconvert_exporter": "python",
   "pygments_lexer": "ipython3",
   "version": "3.8.6"
  }
 },
 "nbformat": 4,
 "nbformat_minor": 4
}
