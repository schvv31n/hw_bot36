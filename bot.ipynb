{
 "cells": [
  {
   "cell_type": "code",
   "execution_count": null,
   "metadata": {
    "scrolled": false
   },
   "outputs": [
    {
     "name": "stdout",
     "output_type": "stream",
     "text": [
      "200\n",
      "200\n",
      "200\n"
     ]
    }
   ],
   "source": [
    "import datetime as dt\n",
    "import telegram as tg\n",
    "import telegram.ext as tg_ext\n",
    "import data\n",
    "import re\n",
    "from hw_request import get_hw\n",
    "from pytz import timezone\n",
    "updater = tg_ext.Updater(token=data.token1, use_context=True)\n",
    "\n",
    "homework = {}\n",
    "kw = {'англ': 'Англ.яз', 'алг': \"Алгебра\", \"био\": \"Биология\", \"гео\": \"География\", \"физр\": \"Физра\", \"физик\": \"Физика\", \"лит\": \"Литра\", \"хим\": \"Химия\", \"геометр\": \"Геометрия\", \"нем\": \"Нем./Франц.яз\", \"фр\": \"Нем./Франц.яз\", \"ист\": \"История\", \"общ\": \"Обществознание\", \"рус\": \"Рус.яз\", \"тех\": \"Технология\", \"обж\": \"ОБЖ\", \"родн\": \"Родн.яз\"}\n",
    "tables = {'Англ.яз': 'english', 'Алгебра': 'algebra', 'Биология': 'biology', 'География': 'geography', 'Физра': 'PE', 'Физика': 'physics', 'Литра': 'literature', 'Химия': 'chemistry', 'Геометрия': 'geometry', 'Нем.': 'german','Франц.яз':'french', 'История': 'history', 'Обществознание': 'sociology', 'Рус.яз': 'russian', 'Технология': 'technology', 'ОБЖ': 'obzh'}\n",
    "schedule = ['8:10 - 8:50', '9:00 - 9:40', '9:55 - 10:35', '10:50 - 11:30', '11:45 - 12:25', '12:35 - 13:15', '13:25 - 14:05']\n",
    "\n",
    "def daily_schedule(context):\n",
    "    hw = get_hw()\n",
    "    if hw['valid']:\n",
    "        res_str = 'Расписание на завтра:\\n'\n",
    "        for i in hw['content'][dt.datetime.now().weekday()]['lessons']:\n",
    "            res_str += f\"{i['discipline']}({i['time_begin'][:-3]} - {i['time_end'][:-3]}):\\nД/З - {i['homework']}\\n\"\n",
    "        context.bot.send_message(chat_id='-1001265019760', text=res_str)\n",
    "updater.job_queue.run_daily(daily_schedule, time=dt.time(hour=18, tzinfo=timezone('Europe/Moscow')), days=list(range(6)))\n",
    "\n",
    "res_global = (None, None)\n",
    "def read_hw(update, context):\n",
    "    global res_global\n",
    "    if res_global[0]:\n",
    "        if dt.datetime.now()-res_global[1]>dt.timedelta(minutes=3):\n",
    "            res_global = (get_hw(), dt.datetime.now())\n",
    "    else:\n",
    "        res_global = (get_hw(), dt.datetime.now())\n",
    "    if not res_global[0]['valid']:\n",
    "        update.message.reply_text('Ошибка: '+res_global[0]['error'])\n",
    "        return\n",
    "    res = res_global[0]\n",
    "    hw = None\n",
    "    if res['valid']:\n",
    "        for day in res['content'][dt.datetime.now().weekday()+1:-1]:\n",
    "            for lesson in day['lessons']:\n",
    "                groups = context.match.groups()\n",
    "                if (groups[2] if groups[2] else groups[3]) in lesson['discipline'].lower():\n",
    "                    hw = (lesson['discipline'], day['date'], lesson['homework'])\n",
    "                    break\n",
    "            if hw:\n",
    "                break\n",
    "        if not hw:\n",
    "            res = get_hw((dt.datetime.now()+dt.timedelta(days=7)).strftime('%Y-%m-%d'))\n",
    "            if res['valid']:\n",
    "                for day in res['content'][:dt.datetime.now().weekday()+1]:\n",
    "                    for lesson in day['lessons']:\n",
    "                        groups = context.match.groups() \n",
    "                        if (groups[2] if groups[2] else groups[3]) in lesson['discipline'].lower():\n",
    "                            hw = (lesson['discipline'], day['date'], lesson['homework'])\n",
    "                            break\n",
    "                    if hw:\n",
    "                        break\n",
    "                if not hw:\n",
    "                    update.message.reply_text('Ошибка: предмет не найден')\n",
    "                    return\n",
    "            else:\n",
    "                update.message.reply_text('Ошибка: '+res['error'])\n",
    "                return\n",
    "    else:\n",
    "        update.message.reply_text('Ошибка: '+res['error'])\n",
    "        return\n",
    "    update.message.reply_text(f'Д/З по предмету {hw[0]} на {hw[1]}: {hw[2]}')\n",
    "p1 = re.compile(f\".*((что|че).*по.?({'|'.join(kw)})|по.?({'|'.join(kw)}).+(что|че)[- ]?(то)?.*зад.*)\", re.IGNORECASE)\n",
    "updater.dispatcher.add_handler(tg_ext.MessageHandler(tg_ext.Filters.regex(p1), read_hw))\n",
    "\n",
    "\n",
    "\n",
    "updater.start_polling(clean=True)\n",
    "updater.idle()"
   ]
  },
  {
   "cell_type": "code",
   "execution_count": null,
   "metadata": {},
   "outputs": [],
   "source": []
  }
 ],
 "metadata": {
  "kernelspec": {
   "display_name": "Python 3",
   "language": "python",
   "name": "python3"
  },
  "language_info": {
   "codemirror_mode": {
    "name": "ipython",
    "version": 3
   },
   "file_extension": ".py",
   "mimetype": "text/x-python",
   "name": "python",
   "nbconvert_exporter": "python",
   "pygments_lexer": "ipython3",
   "version": "3.8.6"
  }
 },
 "nbformat": 4,
 "nbformat_minor": 2
}
