{
 "cells": [
  {
   "cell_type": "code",
   "execution_count": null,
   "metadata": {
    "scrolled": false
   },
   "outputs": [
    {
     "name": "stdout",
     "output_type": "stream",
     "text": [
      "200\n",
      "200\n",
      "200\n"
     ]
    }
   ],
   "source": [
    "import datetime as dt\n",
    "import telegram as tg\n",
    "import telegram.ext as tg_ext\n",
    "import data\n",
    "import re\n",
    "from hw_request import get_hw\n",
    "from pytz import timezone\n",
    "updater = tg_ext.Updater(token=data.token1, use_context=True)\n",
    "\n",
    "homework = {}\n",
    "kw = {'англ': 'Англ.яз', 'алгебр': \"Алгебра\", \"био\": \"Биология\", \"гео\": \"География\", \"физр\": \"Физра\", \"физик\": \"Физика\", \"лит\": \"Литра\", \"хим\": \"Химия\", \"геометр\": \"Геометрия\", \"нем\": \"Нем./Франц.яз\", \"фр\": \"Нем./Франц.яз\", \"ист\": \"История\", \"общ\": \"Обществознание\", \"рус\": \"Рус.яз\", \"тех\": \"Технология\", \"обж\": \"ОБЖ\"}\n",
    "tables = {'Англ.яз': 'english', 'Алгебра': 'algebra', 'Биология': 'biology', 'География': 'geography', 'Физра': 'PE', 'Физика': 'physics', 'Литра': 'literature', 'Химия': 'chemistry', 'Геометрия': 'geometry', 'Нем.': 'german','Франц.яз':'french', 'История': 'history', 'Обществознание': 'sociology', 'Рус.яз': 'russian', 'Технология': 'technology', 'ОБЖ': 'obzh'}\n",
    "schedule = ['8:10 - 8:50', '9:00 - 9:40', '9:55 - 10:35', '10:50 - 11:30', '11:45 - 12:25', '12:35 - 13:15', '13:25 - 14:05']\n",
    "\n",
    "def daily_schedule(context):\n",
    "    hw = get_hw()\n",
    "    if hw['valid']:\n",
    "        res_str = 'Расписание на завтра:\\n'\n",
    "        for i in hw['content'][dt.datetime.now().weekday()]['lessons']:\n",
    "            res_str += f\"{i['discipline']}({i['time_begin'][:-3]} - {i['time_end'][:-3]}):\\nД/З - {i['homework']}\\n\"\n",
    "        context.bot.send_message(chat_id='-1001265019760', text=res_str)\n",
    "updater.job_queue.run_daily(daily_schedule, time=dt.time(hour=18, tzinfo=timezone('Europe/Moscow')))\n",
    "\n",
    "def read_hw(update, context):\n",
    "    hw = None\n",
    "    while not hw:\n",
    "        res = get_hw()\n",
    "        if res['valid']:\n",
    "            for day in res['content'][datetime.now().weekday():-1]:\n",
    "                for lesson in day['lessons']:\n",
    "                    if 'общ' in lesson['discipline'].lower():\n",
    "                        hw = (lesson['discipline'], day['date'], lesson['homework'])\n",
    "                if hw:\n",
    "                    break\n",
    "        else:\n",
    "            update.message.reply_text(f\"Ошибка: {res['error']}\")\n",
    "        print(hw)\n",
    "\n",
    "updater.start_polling(clean=True)\n",
    "updater.idle()"
   ]
  },
  {
   "cell_type": "code",
   "execution_count": 11,
   "metadata": {},
   "outputs": [
    {
     "data": {
      "text/plain": [
       "dict_keys(['англ', 'алгебр', 'био', 'гео', 'физр', 'физик', 'лит', 'хим', 'геометр', 'нем', 'фр', 'ист', 'общ', 'рус', 'тех', 'обж'])"
      ]
     },
     "execution_count": 11,
     "metadata": {},
     "output_type": "execute_result"
    }
   ],
   "source": [
    "kw = {'англ': 'Англ.яз', 'алгебр': \"Алгебра\", \"био\": \"Биология\", \"гео\": \"География\", \"физр\": \"Физра\", \"физик\": \"Физика\", \"лит\": \"Литра\", \"хим\": \"Химия\", \"геометр\": \"Геометрия\", \"нем\": \"Нем./Франц.яз\", \"фр\": \"Нем./Франц.яз\", \"ист\": \"История\", \"общ\": \"Обществознание\", \"рус\": \"Рус.яз\", \"тех\": \"Технология\", \"обж\": \"ОБЖ\"}\n",
    "kw.keys()"
   ]
  },
  {
   "cell_type": "code",
   "execution_count": null,
   "metadata": {},
   "outputs": [],
   "source": []
  }
 ],
 "metadata": {
  "kernelspec": {
   "display_name": "Python 3",
   "language": "python",
   "name": "python3"
  },
  "language_info": {
   "codemirror_mode": {
    "name": "ipython",
    "version": 3
   },
   "file_extension": ".py",
   "mimetype": "text/x-python",
   "name": "python",
   "nbconvert_exporter": "python",
   "pygments_lexer": "ipython3",
   "version": "3.8.6"
  }
 },
 "nbformat": 4,
 "nbformat_minor": 2
}
