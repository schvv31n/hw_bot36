{
 "cells": [
  {
   "cell_type": "code",
   "execution_count": 43,
   "metadata": {},
   "outputs": [
    {
     "name": "stdout",
     "output_type": "stream",
     "text": [
      "200\n",
      "200\n",
      "200\n"
     ]
    }
   ],
   "source": [
    "from urllib3 import PoolManager\n",
    "from datetime import datetime, timedelta\n",
    "import re\n",
    "import json\n",
    "\n",
    "def get_hw(cur_date=datetime.now().strftime('%Y-%m-%d')):\n",
    "    cur_date = datetime.strptime(cur_date, '%Y-%m-%d')\n",
    "    \n",
    "    if cur_date.weekday()==5:\n",
    "        cur_date = cur_date+timedelta(days=2)\n",
    "    elif cur_date.weekday()==6:\n",
    "        return {'valid': False, 'error': None}\n",
    "    else:\n",
    "        cur_date = cur_date+timedelta(days=1)\n",
    "    \n",
    "    with PoolManager() as http:\n",
    "        \n",
    "        r = http.request('POST', 'https://sh-open.ris61edu.ru/auth/login',\n",
    "                         fields={'login_login': '36_Курдов_Тимофей_36', 'login_password': 'faYUzEUK'})\n",
    "        print(r.status)\n",
    "        if r.status>=400:\n",
    "            return {'valid': False, 'error': r.geturl()[28:]+'->'+str(r.status)}\n",
    "        \n",
    "        cookies = [i for i in re.split('[;,] ', r.getheader('Set-Cookie')) if re.match('(sessionid|NodeID)', i)]\n",
    "        r2 = http.request('GET', 'https://sh-open.ris61edu.ru/personal-area/#diary',\n",
    "                          headers={'Cookie':'; '.join(cookies)})\n",
    "        print(r2.status)\n",
    "        if r2.status>=400:\n",
    "            return {'valid': False, 'error': r2.geturl()[28:]+'->'+str(r2.status)}\n",
    "        \n",
    "        r3 = http.request('POST', 'https://sh-open.ris61edu.ru/api/ScheduleService/GetDiary',\n",
    "                    fields={'date': cur_date.strftime('%Y-%m-%d'), 'is_diary': 'true'},\n",
    "                    headers={'Cookie':'; '.join(cookies),\n",
    "                             'Content-Type': 'application/x-www-form-urlencoded',\n",
    "                             'Content-Length': '29'},\n",
    "                          encode_multipart=False)\n",
    "        print(r3.status)\n",
    "        if r3.status>=400:\n",
    "            return {'valid': False, 'error': r3.geturl()[28:]+'->'+str(r3.status)}\n",
    "    return {'valid': True, 'content': json.loads(r3.data.decode())['days']}"
   ]
  },
  {
   "cell_type": "code",
   "execution_count": 65,
   "metadata": {},
   "outputs": [
    {
     "data": {
      "text/plain": [
       "('общ', 0)"
      ]
     },
     "execution_count": 65,
     "metadata": {},
     "output_type": "execute_result"
    }
   ],
   "source": [
    "import re\n",
    "kw = ['англ', 'алгебр', 'био', 'гео', 'физр', 'физик', 'лит', 'хим', 'геометр', 'нем', 'фр', 'ист', 'общ', 'рус', 'тех', 'обж']\n",
    "p = re.compile(f\".*(что.*по.*{'|'.join(kw)}|по.*{'|'.join(kw)}.+что[- ]?(то)?.*зад.*)\", re.IGNORECASE)\n",
    "p.search('что по общии').groups(0)"
   ]
  },
  {
   "cell_type": "code",
   "execution_count": null,
   "metadata": {},
   "outputs": [],
   "source": []
  }
 ],
 "metadata": {
  "kernelspec": {
   "display_name": "Python 3",
   "language": "python",
   "name": "python3"
  },
  "language_info": {
   "codemirror_mode": {
    "name": "ipython",
    "version": 3
   },
   "file_extension": ".py",
   "mimetype": "text/x-python",
   "name": "python",
   "nbconvert_exporter": "python",
   "pygments_lexer": "ipython3",
   "version": "3.8.6"
  }
 },
 "nbformat": 4,
 "nbformat_minor": 4
}
